{
 "cells": [
  {
   "cell_type": "code",
   "execution_count": 1,
   "metadata": {},
   "outputs": [
    {
     "name": "stdout",
     "output_type": "stream",
     "text": [
      "True\n",
      "{'id': 'vvip', 'modal': 400, 'profit': 1000}\n",
      "100\n",
      "False\n",
      "False\n",
      "True\n",
      "{'id': '2', 'modal': 100, 'profit': 300}\n",
      "0\n",
      "[{'id': 'vvip', 'modal': 400, 'profit': 1000}, {'id': '2', 'modal': 100, 'profit': 300}]\n",
      "running_time:0\n"
     ]
    }
   ],
   "source": [
    "from strategi import greedy\n",
    "from datetime import datetime\n",
    "\n",
    "\n",
    "data = [\n",
    "    {\n",
    "        'id': 'vvip',\n",
    "        'modal': 400,\n",
    "        'profit': 1000\n",
    "    },\n",
    "\n",
    "    {\n",
    "        'id': 'vip',\n",
    "        'modal': 300,\n",
    "        'profit': 750\n",
    "    },\n",
    "\n",
    "    {\n",
    "        'id': '1',\n",
    "        'modal': 150,\n",
    "        'profit': 500\n",
    "    },\n",
    "\n",
    "    {\n",
    "        'id': '2',\n",
    "        'modal': 100,\n",
    "        'profit': 300\n",
    "    },\n",
    "\n",
    "    {\n",
    "        'id': '3',\n",
    "        'modal': 50,\n",
    "        'profit': 100\n",
    "    }\n",
    "]\n",
    "\n",
    "modal_awal = 500\n",
    "\n",
    "start = datetime.now().second\n",
    "objek_terpilih = greedy(\"profit\", data, modal_awal)\n",
    "end = datetime.now().second\n",
    "\n",
    "print(objek_terpilih)\n",
    "print(\"running_time:{}\".format(end-start))\n"
   ]
  }
 ],
 "metadata": {
  "kernelspec": {
   "display_name": "base",
   "language": "python",
   "name": "python3"
  },
  "language_info": {
   "codemirror_mode": {
    "name": "ipython",
    "version": 3
   },
   "file_extension": ".py",
   "mimetype": "text/x-python",
   "name": "python",
   "nbconvert_exporter": "python",
   "pygments_lexer": "ipython3",
   "version": "3.9.7"
  },
  "orig_nbformat": 4
 },
 "nbformat": 4,
 "nbformat_minor": 2
}
